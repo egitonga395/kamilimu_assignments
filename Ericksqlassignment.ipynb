{
  "nbformat": 4,
  "nbformat_minor": 0,
  "metadata": {
    "colab": {
      "provenance": [],
      "authorship_tag": "ABX9TyO1ANJp+TTyWmhMV3Bn+s0p",
      "include_colab_link": true
    },
    "kernelspec": {
      "name": "python3",
      "display_name": "Python 3"
    },
    "language_info": {
      "name": "python"
    }
  },
  "cells": [
    {
      "cell_type": "markdown",
      "metadata": {
        "id": "view-in-github",
        "colab_type": "text"
      },
      "source": [
        "<a href=\"https://colab.research.google.com/github/egitonga395/kamilimu_assignments/blob/sql/Ericksqlassignment.ipynb\" target=\"_parent\"><img src=\"https://colab.research.google.com/assets/colab-badge.svg\" alt=\"Open In Colab\"/></a>"
      ]
    },
    {
      "cell_type": "code",
      "execution_count": null,
      "metadata": {
        "id": "Z4476veQicrz"
      },
      "outputs": [],
      "source": [
        "import sqlite3\n",
        "import pandas as pd\n",
        "\n",
        "# Load datasets\n",
        "athletes = pd.read_csv(\"https://raw.githubusercontent.com/rfordatascience/tidytuesday/master/data/2021/2021-07-27/athlete_events.csv\")\n",
        "regions = pd.read_csv(\"https://raw.githubusercontent.com/rfordatascience/tidytuesday/master/data/2021/2021-07-27/noc_regions.csv\")\n",
        "sales = pd.read_csv(\"https://raw.githubusercontent.com/mwaskom/seaborn-data/master/tips.csv\")\n",
        "sales = pd.read_csv(\"https://raw.githubusercontent.com/justmarkham/DAT8/master/data/chipotle.tsv\", sep='\\t')\n",
        "\n",
        "\n",
        "# Connect to SQLite in-memory DB\n",
        "conn = sqlite3.connect(\":memory:\")\n",
        "\n",
        "# Write DataFrames to SQL tables\n",
        "athletes.to_sql(\"athletes_table\", conn, index=False, if_exists=\"replace\")\n",
        "regions.to_sql(\"regions_table\", conn, index=False, if_exists=\"replace\")\n",
        "sales.to_sql(\"sales_table\", conn, index=False, if_exists=\"replace\")\n",
        ""
      ]
    }
  ]
}